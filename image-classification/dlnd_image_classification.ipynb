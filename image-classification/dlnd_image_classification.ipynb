{
 "cells": [
  {
   "cell_type": "markdown",
   "metadata": {
    "collapsed": true
   },
   "source": [
    "# Image Classification\n",
    "In this project, you'll classify images from the [CIFAR-10 dataset](https://www.cs.toronto.edu/~kriz/cifar.html).  The dataset consists of airplanes, dogs, cats, and other objects. You'll preprocess the images, then train a convolutional neural network on all the samples. The images need to be normalized and the labels need to be one-hot encoded.  You'll get to apply what you learned and build a convolutional, max pooling, dropout, and fully connected layers.  At the end, you'll get to see your neural network's predictions on the sample images.\n",
    "## Get the Data\n",
    "Run the following cell to download the [CIFAR-10 dataset for python](https://www.cs.toronto.edu/~kriz/cifar-10-python.tar.gz)."
   ]
  },
  {
   "cell_type": "code",
   "execution_count": 3,
   "metadata": {},
   "outputs": [
    {
     "name": "stdout",
     "output_type": "stream",
     "text": [
      "All files found!\n"
     ]
    }
   ],
   "source": [
    "\"\"\"\n",
    "DON'T MODIFY ANYTHING IN THIS CELL THAT IS BELOW THIS LINE\n",
    "\"\"\"\n",
    "from urllib.request import urlretrieve\n",
    "from os.path import isfile, isdir\n",
    "from tqdm import tqdm\n",
    "import problem_unittests as tests\n",
    "import tarfile\n",
    "\n",
    "cifar10_dataset_folder_path = 'cifar-10-batches-py'\n",
    "\n",
    "# Use Floyd's cifar-10 dataset if present\n",
    "floyd_cifar10_location = 'input/cifar-10/python.tar.gz'\n",
    "if isfile(floyd_cifar10_location):\n",
    "    tar_gz_path = floyd_cifar10_location\n",
    "else:\n",
    "    tar_gz_path = 'cifar-10-python.tar.gz'\n",
    "\n",
    "class DLProgress(tqdm):\n",
    "    last_block = 0\n",
    "\n",
    "    def hook(self, block_num=1, block_size=1, total_size=None):\n",
    "        self.total = total_size\n",
    "        self.update((block_num - self.last_block) * block_size)\n",
    "        self.last_block = block_num\n",
    "\n",
    "if not isfile(tar_gz_path):\n",
    "    with DLProgress(unit='B', unit_scale=True, miniters=1, desc='CIFAR-10 Dataset') as pbar:\n",
    "        urlretrieve(\n",
    "            'https://www.cs.toronto.edu/~kriz/cifar-10-python.tar.gz',\n",
    "            tar_gz_path,\n",
    "            pbar.hook)\n",
    "\n",
    "if not isdir(cifar10_dataset_folder_path):\n",
    "    with tarfile.open(tar_gz_path) as tar:\n",
    "        tar.extractall()\n",
    "        tar.close()\n",
    "\n",
    "\n",
    "tests.test_folder_path(cifar10_dataset_folder_path)"
   ]
  },
  {
   "cell_type": "markdown",
   "metadata": {},
   "source": [
    "## Explore the Data\n",
    "The dataset is broken into batches to prevent your machine from running out of memory.  The CIFAR-10 dataset consists of 5 batches, named `data_batch_1`, `data_batch_2`, etc.. Each batch contains the labels and images that are one of the following:\n",
    "* airplane\n",
    "* automobile\n",
    "* bird\n",
    "* cat\n",
    "* deer\n",
    "* dog\n",
    "* frog\n",
    "* horse\n",
    "* ship\n",
    "* truck\n",
    "\n",
    "Understanding a dataset is part of making predictions on the data.  Play around with the code cell below by changing the `batch_id` and `sample_id`. The `batch_id` is the id for a batch (1-5). The `sample_id` is the id for a image and label pair in the batch.\n",
    "\n",
    "Ask yourself \"What are all possible labels?\", \"What is the range of values for the image data?\", \"Are the labels in order or random?\".  Answers to questions like these will help you preprocess the data and end up with better predictions."
   ]
  },
  {
   "cell_type": "code",
   "execution_count": 4,
   "metadata": {},
   "outputs": [
    {
     "name": "stdout",
     "output_type": "stream",
     "text": [
      "\n",
      "Stats of batch 1:\n",
      "Samples: 10000\n",
      "Label Counts: {0: 1005, 1: 974, 2: 1032, 3: 1016, 4: 999, 5: 937, 6: 1030, 7: 1001, 8: 1025, 9: 981}\n",
      "First 20 Labels: [6, 9, 9, 4, 1, 1, 2, 7, 8, 3, 4, 7, 7, 2, 9, 9, 9, 3, 2, 6]\n",
      "\n",
      "Example of Image 5:\n",
      "Image - Min Value: 0 Max Value: 252\n",
      "Image - Shape: (32, 32, 3)\n",
      "Label - Label Id: 1 Name: automobile\n"
     ]
    },
    {
     "data": {
      "image/png": "[encoded data removed]",
      "text/plain": [
       "<matplotlib.figure.Figure at 0x7fc9325e3b70>"
      ]
     },
     "metadata": {
      "image/png": {
       "height": 250,
       "width": 253
      }
     },
     "output_type": "display_data"
    }
   ],
   "source": [
    "%matplotlib inline\n",
    "%config InlineBackend.figure_format = 'retina'\n",
    "\n",
    "import helper\n",
    "import numpy as np\n",
    "\n",
    "# Explore the dataset\n",
    "batch_id = 1\n",
    "sample_id = 5\n",
    "helper.display_stats(cifar10_dataset_folder_path, batch_id, sample_id)"
   ]
  },
  {
   "cell_type": "markdown",
   "metadata": {},
   "source": [
    "## Implement Preprocess Functions\n",
    "### Normalize\n",
    "In the cell below, implement the `normalize` function to take in image data, `x`, and return it as a normalized Numpy array. The values should be in the range of 0 to 1, inclusive.  The return object should be the same shape as `x`."
   ]
  },
  {
   "cell_type": "code",
   "execution_count": 5,
   "metadata": {},
   "outputs": [
    {
     "name": "stdout",
     "output_type": "stream",
     "text": [
      "Tests Passed\n"
     ]
    }
   ],
   "source": [
    "def normalize(x):\n",
    "    \"\"\"\n",
    "    Normalize a list of sample image data in the range of 0 to 1\n",
    "    : x: List of image data.  The image shape is (32, 32, 3)\n",
    "    : return: Numpy array of normalize data\n",
    "    \"\"\"\n",
    "    # TODO: Implement Function\n",
    "    min = np.min(x) \n",
    "    max = np.max(x) \n",
    "    return (x-min)/(max-min) \n",
    "\n",
    "\n",
    "\n",
    "\"\"\"\n",
    "DON'T MODIFY ANYTHING IN THIS CELL THAT IS BELOW THIS LINE\n",
    "\"\"\"\n",
    "tests.test_normalize(normalize)"
   ]
  },
  {
   "cell_type": "markdown",
   "metadata": {},
   "source": [
    "### One-hot encode\n",
    "Just like the previous code cell, you'll be implementing a function for preprocessing.  This time, you'll implement the `one_hot_encode` function. The input, `x`, are a list of labels.  Implement the function to return the list of labels as One-Hot encoded Numpy array.  The possible values for labels are 0 to 9. The one-hot encoding function should return the same encoding for each value between each call to `one_hot_encode`.  Make sure to save the map of encodings outside the function.\n",
    "\n",
    "Hint: Don't reinvent the wheel."
   ]
  },
  {
   "cell_type": "code",
   "execution_count": 6,
   "metadata": {},
   "outputs": [
    {
     "name": "stdout",
     "output_type": "stream",
     "text": [
      "Tests Passed\n"
     ]
    }
   ],
   "source": [
    "def one_hot_encode(x):\n",
    "    \"\"\"\n",
    "    One hot encode a list of sample labels. Return a one-hot encoded vector for each label.\n",
    "    : x: List of sample Labels\n",
    "    : return: Numpy array of one-hot encoded labels\n",
    "    \"\"\"\n",
    "    # TODO: Implement Function\n",
    "    return np.eye(10)[x]    #multiply x by identity matrix to create a one-hot encoding\n",
    "\n",
    "\n",
    "\"\"\"\n",
    "DON'T MODIFY ANYTHING IN THIS CELL THAT IS BELOW THIS LINE\n",
    "\"\"\"\n",
    "tests.test_one_hot_encode(one_hot_encode)"
   ]
  },
  {
   "cell_type": "markdown",
   "metadata": {},
   "source": [
    "### Randomize Data\n",
    "As you saw from exploring the data above, the order of the samples are randomized.  It doesn't hurt to randomize it again, but you don't need to for this dataset."
   ]
  },
  {
   "cell_type": "markdown",
   "metadata": {},
   "source": [
    "## Preprocess all the data and save it\n",
    "Running the code cell below will preprocess all the CIFAR-10 data and save it to file. The code below also uses 10% of the training data for validation."
   ]
  },
  {
   "cell_type": "code",
   "execution_count": 7,
   "metadata": {
    "collapsed": true
   },
   "outputs": [],
   "source": [
    "\"\"\"\n",
    "DON'T MODIFY ANYTHING IN THIS CELL\n",
    "\"\"\"\n",
    "# Preprocess Training, Validation, and Testing Data\n",
    "helper.preprocess_and_save_data(cifar10_dataset_folder_path, normalize, one_hot_encode)"
   ]
  },
  {
   "cell_type": "markdown",
   "metadata": {},
   "source": [
    "# Check Point\n",
    "This is your first checkpoint.  If you ever decide to come back to this notebook or have to restart the notebook, you can start from here.  The preprocessed data has been saved to disk."
   ]
  },
  {
   "cell_type": "code",
   "execution_count": 8,
   "metadata": {
    "collapsed": true
   },
   "outputs": [],
   "source": [
    "\"\"\"\n",
    "DON'T MODIFY ANYTHING IN THIS CELL\n",
    "\"\"\"\n",
    "import pickle\n",
    "import problem_unittests as tests\n",
    "import helper\n",
    "\n",
    "# Load the Preprocessed Validation data\n",
    "valid_features, valid_labels = pickle.load(open('preprocess_validation.p', mode='rb'))"
   ]
  },
  {
   "cell_type": "markdown",
   "metadata": {},
   "source": [
    "## Build the network\n",
    "For the neural network, you'll build each layer into a function.  Most of the code you've seen has been outside of functions. To test your code more thoroughly, we require that you put each layer in a function.  This allows us to give you better feedback and test for simple mistakes using our unittests before you submit your project.\n",
    "\n",
    ">**Note:** If you're finding it hard to dedicate enough time for this course each week, we've provided a small shortcut to this part of the project. In the next couple of problems, you'll have the option to use classes from the [TensorFlow Layers](https://www.tensorflow.org/api_docs/python/tf/layers) or [TensorFlow Layers (contrib)](https://www.tensorflow.org/api_guides/python/contrib.layers) packages to build each layer, except the layers you build in the \"Convolutional and Max Pooling Layer\" section.  TF Layers is similar to Keras's and TFLearn's abstraction to layers, so it's easy to pickup.\n",
    "\n",
    ">However, if you would like to get the most out of this course, try to solve all the problems _without_ using anything from the TF Layers packages. You **can** still use classes from other packages that happen to have the same name as ones you find in TF Layers! For example, instead of using the TF Layers version of the `conv2d` class, [tf.layers.conv2d](https://www.tensorflow.org/api_docs/python/tf/layers/conv2d), you would want to use the TF Neural Network version of `conv2d`, [tf.nn.conv2d](https://www.tensorflow.org/api_docs/python/tf/nn/conv2d). \n",
    "\n",
    "Let's begin!\n",
    "\n",
    "### Input\n",
    "The neural network needs to read the image data, one-hot encoded labels, and dropout keep probability. Implement the following functions\n",
    "* Implement `neural_net_image_input`\n",
    " * Return a [TF Placeholder](https://www.tensorflow.org/api_docs/python/tf/placeholder)\n",
    " * Set the shape using `image_shape` with batch size set to `None`.\n",
    " * Name the TensorFlow placeholder \"x\" using the TensorFlow `name` parameter in the [TF Placeholder](https://www.tensorflow.org/api_docs/python/tf/placeholder).\n",
    "* Implement `neural_net_label_input`\n",
    " * Return a [TF Placeholder](https://www.tensorflow.org/api_docs/python/tf/placeholder)\n",
    " * Set the shape using `n_classes` with batch size set to `None`.\n",
    " * Name the TensorFlow placeholder \"y\" using the TensorFlow `name` parameter in the [TF Placeholder](https://www.tensorflow.org/api_docs/python/tf/placeholder).\n",
    "* Implement `neural_net_keep_prob_input`\n",
    " * Return a [TF Placeholder](https://www.tensorflow.org/api_docs/python/tf/placeholder) for dropout keep probability.\n",
    " * Name the TensorFlow placeholder \"keep_prob\" using the TensorFlow `name` parameter in the [TF Placeholder](https://www.tensorflow.org/api_docs/python/tf/placeholder).\n",
    "\n",
    "These names will be used at the end of the project to load your saved model.\n",
    "\n",
    "Note: `None` for shapes in TensorFlow allow for a dynamic size."
   ]
  },
  {
   "cell_type": "code",
   "execution_count": 9,
   "metadata": {},
   "outputs": [
    {
     "name": "stdout",
     "output_type": "stream",
     "text": [
      "Image Input Tests Passed.\n",
      "Label Input Tests Passed.\n",
      "Keep Prob Tests Passed.\n"
     ]
    }
   ],
   "source": [
    "import tensorflow as tf\n",
    "\n",
    "def neural_net_image_input(image_shape):\n",
    "    \"\"\"\n",
    "    Return a Tensor for a batch of image input\n",
    "    : image_shape: Shape of the images\n",
    "    : return: Tensor for image input.\n",
    "    \"\"\"\n",
    "    # TODO: Implement Function\n",
    "    return tf.placeholder(tf.float32, [None, *image_shape], name='x')\n",
    "\n",
    "\n",
    "def neural_net_label_input(n_classes):\n",
    "    \"\"\"\n",
    "    Return a Tensor for a batch of label input\n",
    "    : n_classes: Number of classes\n",
    "    : return: Tensor for label input.\n",
    "    \"\"\"\n",
    "    # TODO: Implement Function\n",
    "    return tf.placeholder(tf.float32, [None, n_classes], name='y')\n",
    "\n",
    "\n",
    "def neural_net_keep_prob_input():\n",
    "    \"\"\"\n",
    "    Return a Tensor for keep probability\n",
    "    : return: Tensor for keep probability.\n",
    "    \"\"\"\n",
    "    # TODO: Implement Function\n",
    "    return tf.placeholder(tf.float32, name='keep_prob')\n",
    "\n",
    "\n",
    "\"\"\"\n",
    "DON'T MODIFY ANYTHING IN THIS CELL THAT IS BELOW THIS LINE\n",
    "\"\"\"\n",
    "tf.reset_default_graph()\n",
    "tests.test_nn_image_inputs(neural_net_image_input)\n",
    "tests.test_nn_label_inputs(neural_net_label_input)\n",
    "tests.test_nn_keep_prob_inputs(neural_net_keep_prob_input)"
   ]
  },
  {
   "cell_type": "markdown",
   "metadata": {},
   "source": [
    "### Convolution and Max Pooling Layer\n",
    "Convolution layers have a lot of success with images. For this code cell, you should implement the function `conv2d_maxpool` to apply convolution then max pooling:\n",
    "* Create the weight and bias using `conv_ksize`, `conv_num_outputs` and the shape of `x_tensor`.\n",
    "* Apply a convolution to `x_tensor` using weight and `conv_strides`.\n",
    " * We recommend you use same padding, but you're welcome to use any padding.\n",
    "* Add bias\n",
    "* Add a nonlinear activation to the convolution.\n",
    "* Apply Max Pooling using `pool_ksize` and `pool_strides`.\n",
    " * We recommend you use same padding, but you're welcome to use any padding.\n",
    "\n",
    "**Note:** You **can't** use [TensorFlow Layers](https://www.tensorflow.org/api_docs/python/tf/layers) or [TensorFlow Layers (contrib)](https://www.tensorflow.org/api_guides/python/contrib.layers) for **this** layer, but you can still use TensorFlow's [Neural Network](https://www.tensorflow.org/api_docs/python/tf/nn) package. You may still use the shortcut option for all the **other** layers."
   ]
  },
  {
   "cell_type": "code",
   "execution_count": 11,
   "metadata": {},
   "outputs": [
    {
     "name": "stdout",
     "output_type": "stream",
     "text": [
      "Tests Passed\n"
     ]
    }
   ],
   "source": [
    "def conv2d_maxpool(x_tensor, conv_num_outputs, conv_ksize, conv_strides, pool_ksize, pool_strides):\n",
    "    \"\"\"\n",
    "    Apply convolution then max pooling to x_tensor\n",
    "    :param x_tensor: TensorFlow Tensor\n",
    "    :param conv_num_outputs: Number of outputs for the convolutional layer\n",
    "    :param conv_ksize: kernal size 2-D Tuple for the convolutional layer\n",
    "    :param conv_strides: Stride 2-D Tuple for convolution\n",
    "    :param pool_ksize: kernal size 2-D Tuple for pool\n",
    "    :param pool_strides: Stride 2-D Tuple for pool\n",
    "    : return: A tensor that represents convolution and max pooling of x_tensor\n",
    "    \"\"\"\n",
    "    # TODO: Implement Function\n",
    "    tensor_shape = x_tensor.get_shape().as_list()[-1]         # Grab the shape of x_tensor\n",
    "\n",
    "    # setup the weights and stride for the conv2d layer input\n",
    "    filter_weights = tf.Variable(tf.truncated_normal([conv_ksize[0], conv_ksize[1], tensor_shape, conv_num_outputs], stddev=0.05))\n",
    "    strides = [1, *conv_strides, 1]\n",
    "    \n",
    "    # execute the conv2d layer with above setup\n",
    "    conv = tf.nn.conv2d(x_tensor, filter_weights, strides, padding='SAME')\n",
    "    \n",
    "    # setup the bias variable\n",
    "    filter_bias = tf.Variable(tf.zeros([conv_num_outputs]))\n",
    "    \n",
    "    # execute a nonlinear output relu to the layer\n",
    "    activation = tf.nn.relu(tf.nn.bias_add(conv, filter_bias))\n",
    "\n",
    "    # setup inputs for the maxpool function\n",
    "    ksize = [1, *pool_ksize, 1]\n",
    "    strides = [1, *pool_strides, 1]\n",
    "    \n",
    "    # exdecute a max_pool to the layer\n",
    "    max_pool = tf.nn.max_pool(activation, ksize, strides, padding='SAME')\n",
    "    \n",
    "    # return the layer final output\n",
    "    return max_pool  \n",
    "\n",
    "\n",
    "\"\"\"\n",
    "DON'T MODIFY ANYTHING IN THIS CELL THAT IS BELOW THIS LINE\n",
    "\"\"\"\n",
    "tests.test_con_pool(conv2d_maxpool)"
   ]
  },
  {
   "cell_type": "markdown",
   "metadata": {},
   "source": [
    "### Flatten Layer\n",
    "Implement the `flatten` function to change the dimension of `x_tensor` from a 4-D tensor to a 2-D tensor.  The output should be the shape (*Batch Size*, *Flattened Image Size*). Shortcut option: you can use classes from the [TensorFlow Layers](https://www.tensorflow.org/api_docs/python/tf/layers) or [TensorFlow Layers (contrib)](https://www.tensorflow.org/api_guides/python/contrib.layers) packages for this layer. For more of a challenge, only use other TensorFlow packages."
   ]
  },
  {
   "cell_type": "code",
   "execution_count": 12,
   "metadata": {},
   "outputs": [
    {
     "name": "stdout",
     "output_type": "stream",
     "text": [
      "[None, 10, 30, 6]\n",
      "1800\n",
      "Tests Passed\n"
     ]
    }
   ],
   "source": [
    "def flatten(x_tensor):\n",
    "    \"\"\"\n",
    "    Flatten x_tensor to (Batch Size, Flattened Image Size)\n",
    "    : x_tensor: A tensor of size (Batch Size, ...), where ... are the image dimensions.\n",
    "    : return: A tensor of size (Batch Size, Flattened Image Size).\n",
    "    \"\"\"\n",
    "    # TODO: Implement Function\n",
    "    shape = x_tensor.get_shape().as_list()         # Grab the shape of x_tensor\n",
    "    print(shape)                                   # for testing reference\n",
    "    dimension = shape[1]*shape[2]*shape[3]         # Grab total dimensions of original tensor\n",
    "    print (dimension)                              # print for testing reference\n",
    "    return tf.reshape(x_tensor, [-1, (dimension)]) # call the tf reshape method to return the x_tensor flattened\n",
    "\n",
    "\n",
    "\"\"\"\n",
    "DON'T MODIFY ANYTHING IN THIS CELL THAT IS BELOW THIS LINE\n",
    "\"\"\"\n",
    "tests.test_flatten(flatten)"
   ]
  },
  {
   "cell_type": "markdown",
   "metadata": {},
   "source": [
    "### Fully-Connected Layer\n",
    "Implement the `fully_conn` function to apply a fully connected layer to `x_tensor` with the shape (*Batch Size*, *num_outputs*). Shortcut option: you can use classes from the [TensorFlow Layers](https://www.tensorflow.org/api_docs/python/tf/layers) or [TensorFlow Layers (contrib)](https://www.tensorflow.org/api_guides/python/contrib.layers) packages for this layer. For more of a challenge, only use other TensorFlow packages."
   ]
  },
  {
   "cell_type": "code",
   "execution_count": 14,
   "metadata": {},
   "outputs": [
    {
     "name": "stdout",
     "output_type": "stream",
     "text": [
      "Tests Passed\n"
     ]
    }
   ],
   "source": [
    "def fully_conn(x_tensor, num_outputs):\n",
    "    \"\"\"\n",
    "    Apply a fully connected layer to x_tensor using weight and bias\n",
    "    : x_tensor: A 2-D tensor where the first dimension is batch size.\n",
    "    : num_outputs: The number of output that the new tensor should be.\n",
    "    : return: A 2-D tensor where the second dimension is num_outputs.\n",
    "    \"\"\"\n",
    "    # TODO: Implement Function\n",
    "    \n",
    "    # again we grab the shape of the x_tensor\n",
    "    tensor_shape = x_tensor.get_shape().as_list() \n",
    "    \n",
    "    # create our weights and bias for fully connected tf layer\n",
    "    weights = tf.Variable(tf.truncated_normal([tensor_shape[1], num_outputs], stddev=0.05))\n",
    "    bias = tf.Variable(tf.zeros(num_outputs))\n",
    "    \n",
    "    # create the simple fully connected layer as in the course examples\n",
    "    fully_connected = tf.add(tf.matmul(x_tensor, weights), bias)\n",
    "    \n",
    "    # execute a nonlinear relu to the layer output\n",
    "    activation = tf.nn.relu(fully_connected)\n",
    "    \n",
    "    # return our output with relu \n",
    "    return activation\n",
    "\n",
    "\n",
    "\"\"\"\n",
    "DON'T MODIFY ANYTHING IN THIS CELL THAT IS BELOW THIS LINE\n",
    "\"\"\"\n",
    "tests.test_fully_conn(fully_conn)"
   ]
  },
  {
   "cell_type": "markdown",
   "metadata": {},
   "source": [
    "### Output Layer\n",
    "Implement the `output` function to apply a fully connected layer to `x_tensor` with the shape (*Batch Size*, *num_outputs*). Shortcut option: you can use classes from the [TensorFlow Layers](https://www.tensorflow.org/api_docs/python/tf/layers) or [TensorFlow Layers (contrib)](https://www.tensorflow.org/api_guides/python/contrib.layers) packages for this layer. For more of a challenge, only use other TensorFlow packages.\n",
    "\n",
    "**Note:** Activation, softmax, or cross entropy should **not** be applied to this."
   ]
  },
  {
   "cell_type": "code",
   "execution_count": 15,
   "metadata": {},
   "outputs": [
    {
     "name": "stdout",
     "output_type": "stream",
     "text": [
      "Tests Passed\n"
     ]
    }
   ],
   "source": [
    "def output(x_tensor, num_outputs):\n",
    "    \"\"\"\n",
    "    Apply a output layer to x_tensor using weight and bias\n",
    "    : x_tensor: A 2-D tensor where the first dimension is batch size.\n",
    "    : num_outputs: The number of output that the new tensor should be.\n",
    "    : return: A 2-D tensor where the second dimension is num_outputs.\n",
    "    \"\"\"\n",
    "    # TODO: Implement Function\n",
    "    # start with grabbing the x_tensor shape as usual\n",
    "    shape = x_tensor.get_shape().as_list()\n",
    "    \n",
    "    # create the weights and bias for the output layer\n",
    "    weights = tf.Variable(tf.truncated_normal([shape[1], num_outputs], stddev=0.05))\n",
    "    bias = tf.Variable(tf.zeros(num_outputs))\n",
    "    \n",
    "    # execute the output layer\n",
    "    output = tf.add(tf.matmul(x_tensor, weights), bias)\n",
    "    \n",
    "    # return the output layer without activation functions\n",
    "    return output\n",
    "\n",
    "\"\"\"\n",
    "DON'T MODIFY ANYTHING IN THIS CELL THAT IS BELOW THIS LINE\n",
    "\"\"\"\n",
    "tests.test_output(output)"
   ]
  },
  {
   "cell_type": "markdown",
   "metadata": {},
   "source": [
    "### Create Convolutional Model\n",
    "Implement the function `conv_net` to create a convolutional neural network model. The function takes in a batch of images, `x`, and outputs logits.  Use the layers you created above to create this model:\n",
    "\n",
    "* Apply 1, 2, or 3 Convolution and Max Pool layers\n",
    "* Apply a Flatten Layer\n",
    "* Apply 1, 2, or 3 Fully Connected Layers\n",
    "* Apply an Output Layer\n",
    "* Return the output\n",
    "* Apply [TensorFlow's Dropout](https://www.tensorflow.org/api_docs/python/tf/nn/dropout) to one or more layers in the model using `keep_prob`. "
   ]
  },
  {
   "cell_type": "code",
   "execution_count": 16,
   "metadata": {},
   "outputs": [
    {
     "name": "stdout",
     "output_type": "stream",
     "text": [
      "[None, 4, 4, 256]\n",
      "4096\n",
      "[None, 4, 4, 256]\n",
      "4096\n",
      "Neural Network Built!\n"
     ]
    }
   ],
   "source": [
    "def conv_net(x, keep_prob):\n",
    "    \"\"\"\n",
    "    Create a convolutional neural network model\n",
    "    : x: Placeholder tensor that holds image data.\n",
    "    : keep_prob: Placeholder tensor that hold dropout keep probability.\n",
    "    : return: Tensor that represents logits\n",
    "    \"\"\"\n",
    "    # TODO: Apply 1, 2, or 3 Convolution and Max Pool layers\n",
    "    #    Play around with different number of outputs, kernel size and stride\n",
    "    # Function Definition from Above:\n",
    "    #    conv2d_maxpool(x_tensor, conv_num_outputs, conv_ksize, conv_strides, pool_ksize, pool_strides)\n",
    "    \n",
    "    # we execute our conv2d_maxpool method 3 times passing the output to the next input and gaining depth\n",
    "    conv_layer = conv2d_maxpool(x,    32,  (8,8), (1,1), (2,2), (2,2))\n",
    "    conv_layer = conv2d_maxpool(conv_layer, 64,  (4,4), (1,1), (2,2), (2,2))\n",
    "    conv_layer = conv2d_maxpool(conv_layer, 256, (2,2), (1,1), (2,2), (2,2))\n",
    "\n",
    "\n",
    "\n",
    "    # TODO: Apply a Flatten Layer\n",
    "    # Function Definition from Above:\n",
    "    #   flatten(x_tensor)\n",
    "    \n",
    "    # next execute the flatten layer method out the prior output\n",
    "    flattened_x = flatten(conv_layer)\n",
    "    \n",
    "\n",
    "    # TODO: Apply 1, 2, or 3 Fully Connected Layers\n",
    "    #    Play around with different number of outputs\n",
    "    # Function Definition from Above:\n",
    "    #   fully_conn(x_tensor, num_outputs)\n",
    "    \n",
    "    # next we add the flattened output to 3 fully connected layers\n",
    "    fully_connected = fully_conn(flattened_x, 512)\n",
    "    fully_connected = fully_conn(fully_connected, 64)\n",
    "    \n",
    "    # adding dropout from the course notes to improve our quality\n",
    "    fully_connected = tf.nn.dropout(fully_connected, keep_prob)\n",
    "    \n",
    "    \n",
    "    # TODO: Apply an Output Layer\n",
    "    #    Set this to the number of classes\n",
    "    # Function Definition from Above:\n",
    "    #   output(x_tensor, num_outputs)\n",
    "    \n",
    "    # create an output layer with the correct number of classes\n",
    "    finaloutput = tf.nn.dropout(output(fully_connected, 10), keep_prob)\n",
    "    \n",
    "    \n",
    "    # TODO: return output\n",
    "    \n",
    "    # last we return the output \n",
    "    return finaloutput\n",
    "\n",
    "\n",
    "\"\"\"\n",
    "DON'T MODIFY ANYTHING IN THIS CELL THAT IS BELOW THIS LINE\n",
    "\"\"\"\n",
    "\n",
    "##############################\n",
    "## Build the Neural Network ##\n",
    "##############################\n",
    "\n",
    "# Remove previous weights, bias, inputs, etc..\n",
    "tf.reset_default_graph()\n",
    "\n",
    "# Inputs\n",
    "x = neural_net_image_input((32, 32, 3))\n",
    "y = neural_net_label_input(10)\n",
    "keep_prob = neural_net_keep_prob_input()\n",
    "\n",
    "# Model\n",
    "logits = conv_net(x, keep_prob)\n",
    "\n",
    "# Name logits Tensor, so that is can be loaded from disk after training\n",
    "logits = tf.identity(logits, name='logits')\n",
    "\n",
    "# Loss and Optimizer\n",
    "cost = tf.reduce_mean(tf.nn.softmax_cross_entropy_with_logits(logits=logits, labels=y))\n",
    "optimizer = tf.train.AdamOptimizer().minimize(cost)\n",
    "\n",
    "# Accuracy\n",
    "correct_pred = tf.equal(tf.argmax(logits, 1), tf.argmax(y, 1))\n",
    "accuracy = tf.reduce_mean(tf.cast(correct_pred, tf.float32), name='accuracy')\n",
    "\n",
    "tests.test_conv_net(conv_net)"
   ]
  },
  {
   "cell_type": "markdown",
   "metadata": {},
   "source": [
    "## Train the Neural Network\n",
    "### Single Optimization\n",
    "Implement the function `train_neural_network` to do a single optimization.  The optimization should use `optimizer` to optimize in `session` with a `feed_dict` of the following:\n",
    "* `x` for image input\n",
    "* `y` for labels\n",
    "* `keep_prob` for keep probability for dropout\n",
    "\n",
    "This function will be called for each batch, so `tf.global_variables_initializer()` has already been called.\n",
    "\n",
    "Note: Nothing needs to be returned. This function is only optimizing the neural network."
   ]
  },
  {
   "cell_type": "code",
   "execution_count": 17,
   "metadata": {},
   "outputs": [
    {
     "name": "stdout",
     "output_type": "stream",
     "text": [
      "Tests Passed\n"
     ]
    }
   ],
   "source": [
    "def train_neural_network(session, optimizer, keep_probability, feature_batch, label_batch):\n",
    "    \"\"\"\n",
    "    Optimize the session on a batch of images and labels\n",
    "    : session: Current TensorFlow session\n",
    "    : optimizer: TensorFlow optimizer function\n",
    "    : keep_probability: keep probability\n",
    "    : feature_batch: Batch of Numpy image data\n",
    "    : label_batch: Batch of Numpy label data\n",
    "    \"\"\"\n",
    "    # TODO: Implement Function\n",
    "    \n",
    "    # start a tf session and run training\n",
    "    session.run(optimizer, feed_dict={x: feature_batch, y: label_batch, keep_prob: keep_probability})\n",
    "\n",
    "\n",
    "\"\"\"\n",
    "DON'T MODIFY ANYTHING IN THIS CELL THAT IS BELOW THIS LINE\n",
    "\"\"\"\n",
    "tests.test_train_nn(train_neural_network)"
   ]
  },
  {
   "cell_type": "markdown",
   "metadata": {},
   "source": [
    "### Show Stats\n",
    "Implement the function `print_stats` to print loss and validation accuracy.  Use the global variables `valid_features` and `valid_labels` to calculate validation accuracy.  Use a keep probability of `1.0` to calculate the loss and validation accuracy."
   ]
  },
  {
   "cell_type": "code",
   "execution_count": 25,
   "metadata": {
    "collapsed": true
   },
   "outputs": [],
   "source": [
    "def print_stats(session, feature_batch, label_batch, cost, accuracy):\n",
    "    \"\"\"\n",
    "    Print information about loss and validation accuracy\n",
    "    : session: Current TensorFlow session\n",
    "    : feature_batch: Batch of Numpy image data\n",
    "    : label_batch: Batch of Numpy label data\n",
    "    : cost: TensorFlow cost function\n",
    "    : accuracy: TensorFlow accuracy function\n",
    "    \"\"\"\n",
    "    # TODO: Implement Function\n",
    "    \n",
    "    # calculate our loss\n",
    "    training_loss = session.run(cost, feed_dict={ x: feature_batch, y: label_batch, keep_prob: 1.})\n",
    "    \n",
    "    # validation loss\n",
    "    validation_acc = session.run(accuracy, feed_dict={ x: valid_features, y: valid_labels, keep_prob: 1.})\n",
    "\n",
    "    print('Training Loss: {:.4f}    Validation Accuracy: {:.4f}'.format(training_loss, validation_acc))"
   ]
  },
  {
   "cell_type": "markdown",
   "metadata": {},
   "source": [
    "### Hyperparameters\n",
    "Tune the following parameters:\n",
    "* Set `epochs` to the number of iterations until the network stops learning or start overfitting\n",
    "* Set `batch_size` to the highest number that your machine has memory for.  Most people set them to common sizes of memory:\n",
    " * 64\n",
    " * 128\n",
    " * 256\n",
    " * ...\n",
    "* Set `keep_probability` to the probability of keeping a node using dropout"
   ]
  },
  {
   "cell_type": "code",
   "execution_count": 40,
   "metadata": {
    "collapsed": true
   },
   "outputs": [],
   "source": [
    "# TODO: Tune Parameters\n",
    "epochs = 50\n",
    "batch_size = 1024\n",
    "keep_probability = 0.7"
   ]
  },
  {
   "cell_type": "markdown",
   "metadata": {},
   "source": [
    "### Train on a Single CIFAR-10 Batch\n",
    "Instead of training the neural network on all the CIFAR-10 batches of data, let's use a single batch. This should save time while you iterate on the model to get a better accuracy.  Once the final validation accuracy is 50% or greater, run the model on all the data in the next section."
   ]
  },
  {
   "cell_type": "code",
   "execution_count": 41,
   "metadata": {},
   "outputs": [
    {
     "name": "stdout",
     "output_type": "stream",
     "text": [
      "Checking the Training on a Single Batch...\n",
      "Epoch  1, CIFAR-10 Batch 1:  Training Loss: 2.2278    Validation Accuracy: 0.1326\n",
      "Epoch  2, CIFAR-10 Batch 1:  Training Loss: 2.0516    Validation Accuracy: 0.2962\n",
      "Epoch  3, CIFAR-10 Batch 1:  Training Loss: 1.9903    Validation Accuracy: 0.2902\n",
      "Epoch  4, CIFAR-10 Batch 1:  Training Loss: 1.9329    Validation Accuracy: 0.3316\n",
      "Epoch  5, CIFAR-10 Batch 1:  Training Loss: 1.7980    Validation Accuracy: 0.3920\n",
      "Epoch  6, CIFAR-10 Batch 1:  Training Loss: 1.7706    Validation Accuracy: 0.3818\n",
      "Epoch  7, CIFAR-10 Batch 1:  Training Loss: 1.7077    Validation Accuracy: 0.4020\n",
      "Epoch  8, CIFAR-10 Batch 1:  Training Loss: 1.6245    Validation Accuracy: 0.4358\n",
      "Epoch  9, CIFAR-10 Batch 1:  Training Loss: 1.6224    Validation Accuracy: 0.4312\n",
      "Epoch 10, CIFAR-10 Batch 1:  Training Loss: 1.5452    Validation Accuracy: 0.4506\n",
      "Epoch 11, CIFAR-10 Batch 1:  Training Loss: 1.4891    Validation Accuracy: 0.4666\n",
      "Epoch 12, CIFAR-10 Batch 1:  Training Loss: 1.5061    Validation Accuracy: 0.4724\n",
      "Epoch 13, CIFAR-10 Batch 1:  Training Loss: 1.4559    Validation Accuracy: 0.4656\n",
      "Epoch 14, CIFAR-10 Batch 1:  Training Loss: 1.4398    Validation Accuracy: 0.4770\n",
      "Epoch 15, CIFAR-10 Batch 1:  Training Loss: 1.3982    Validation Accuracy: 0.4834\n",
      "Epoch 16, CIFAR-10 Batch 1:  Training Loss: 1.3682    Validation Accuracy: 0.4840\n",
      "Epoch 17, CIFAR-10 Batch 1:  Training Loss: 1.3152    Validation Accuracy: 0.5018\n",
      "Epoch 18, CIFAR-10 Batch 1:  Training Loss: 1.3658    Validation Accuracy: 0.4862\n",
      "Epoch 19, CIFAR-10 Batch 1:  Training Loss: 1.2988    Validation Accuracy: 0.5028\n",
      "Epoch 20, CIFAR-10 Batch 1:  Training Loss: 1.2645    Validation Accuracy: 0.5048\n",
      "Epoch 21, CIFAR-10 Batch 1:  Training Loss: 1.2704    Validation Accuracy: 0.4956\n",
      "Epoch 22, CIFAR-10 Batch 1:  Training Loss: 1.2018    Validation Accuracy: 0.5236\n",
      "Epoch 23, CIFAR-10 Batch 1:  Training Loss: 1.1617    Validation Accuracy: 0.5196\n",
      "Epoch 24, CIFAR-10 Batch 1:  Training Loss: 1.1629    Validation Accuracy: 0.5234\n",
      "Epoch 25, CIFAR-10 Batch 1:  Training Loss: 1.1517    Validation Accuracy: 0.5422\n",
      "Epoch 26, CIFAR-10 Batch 1:  Training Loss: 1.0922    Validation Accuracy: 0.5452\n",
      "Epoch 27, CIFAR-10 Batch 1:  Training Loss: 1.0926    Validation Accuracy: 0.5442\n",
      "Epoch 28, CIFAR-10 Batch 1:  Training Loss: 1.0132    Validation Accuracy: 0.5548\n",
      "Epoch 29, CIFAR-10 Batch 1:  Training Loss: 1.0188    Validation Accuracy: 0.5500\n",
      "Epoch 30, CIFAR-10 Batch 1:  Training Loss: 0.9584    Validation Accuracy: 0.5680\n",
      "Epoch 31, CIFAR-10 Batch 1:  Training Loss: 0.9531    Validation Accuracy: 0.5632\n",
      "Epoch 32, CIFAR-10 Batch 1:  Training Loss: 0.9390    Validation Accuracy: 0.5600\n",
      "Epoch 33, CIFAR-10 Batch 1:  Training Loss: 0.8937    Validation Accuracy: 0.5684\n",
      "Epoch 34, CIFAR-10 Batch 1:  Training Loss: 0.8670    Validation Accuracy: 0.5720\n",
      "Epoch 35, CIFAR-10 Batch 1:  Training Loss: 0.8388    Validation Accuracy: 0.5762\n",
      "Epoch 36, CIFAR-10 Batch 1:  Training Loss: 0.8128    Validation Accuracy: 0.5694\n",
      "Epoch 37, CIFAR-10 Batch 1:  Training Loss: 0.7594    Validation Accuracy: 0.5878\n",
      "Epoch 38, CIFAR-10 Batch 1:  Training Loss: 0.7719    Validation Accuracy: 0.5794\n",
      "Epoch 39, CIFAR-10 Batch 1:  Training Loss: 0.7697    Validation Accuracy: 0.5738\n",
      "Epoch 40, CIFAR-10 Batch 1:  Training Loss: 0.7747    Validation Accuracy: 0.5728\n",
      "Epoch 41, CIFAR-10 Batch 1:  Training Loss: 0.6752    Validation Accuracy: 0.5866\n",
      "Epoch 42, CIFAR-10 Batch 1:  Training Loss: 0.6783    Validation Accuracy: 0.5910\n",
      "Epoch 43, CIFAR-10 Batch 1:  Training Loss: 0.6434    Validation Accuracy: 0.5878\n",
      "Epoch 44, CIFAR-10 Batch 1:  Training Loss: 0.6658    Validation Accuracy: 0.5722\n",
      "Epoch 45, CIFAR-10 Batch 1:  Training Loss: 0.6513    Validation Accuracy: 0.5636\n",
      "Epoch 46, CIFAR-10 Batch 1:  Training Loss: 0.5915    Validation Accuracy: 0.5836\n",
      "Epoch 47, CIFAR-10 Batch 1:  Training Loss: 0.5691    Validation Accuracy: 0.5842\n",
      "Epoch 48, CIFAR-10 Batch 1:  Training Loss: 0.5126    Validation Accuracy: 0.5922\n",
      "Epoch 49, CIFAR-10 Batch 1:  Training Loss: 0.4563    Validation Accuracy: 0.6008\n",
      "Epoch 50, CIFAR-10 Batch 1:  Training Loss: 0.4982    Validation Accuracy: 0.5886\n"
     ]
    }
   ],
   "source": [
    "\"\"\"\n",
    "DON'T MODIFY ANYTHING IN THIS CELL\n",
    "\"\"\"\n",
    "print('Checking the Training on a Single Batch...')\n",
    "with tf.Session() as sess:\n",
    "    # Initializing the variables\n",
    "    sess.run(tf.global_variables_initializer())\n",
    "    \n",
    "    # Training cycle\n",
    "    for epoch in range(epochs):\n",
    "        batch_i = 1\n",
    "        for batch_features, batch_labels in helper.load_preprocess_training_batch(batch_i, batch_size):\n",
    "            train_neural_network(sess, optimizer, keep_probability, batch_features, batch_labels)\n",
    "        print('Epoch {:>2}, CIFAR-10 Batch {}:  '.format(epoch + 1, batch_i), end='')\n",
    "        print_stats(sess, batch_features, batch_labels, cost, accuracy)"
   ]
  },
  {
   "cell_type": "markdown",
   "metadata": {},
   "source": [
    "### Fully Train the Model\n",
    "Now that you got a good accuracy with a single CIFAR-10 batch, try it with all five batches."
   ]
  },
  {
   "cell_type": "code",
   "execution_count": 42,
   "metadata": {},
   "outputs": [
    {
     "name": "stdout",
     "output_type": "stream",
     "text": [
      "Training...\n",
      "Epoch  1, CIFAR-10 Batch 1:  Training Loss: 2.1818    Validation Accuracy: 0.2154\n",
      "Epoch  1, CIFAR-10 Batch 2:  Training Loss: 2.0194    Validation Accuracy: 0.2984\n",
      "Epoch  1, CIFAR-10 Batch 3:  Training Loss: 1.8953    Validation Accuracy: 0.3384\n",
      "Epoch  1, CIFAR-10 Batch 4:  Training Loss: 1.8525    Validation Accuracy: 0.3568\n",
      "Epoch  1, CIFAR-10 Batch 5:  Training Loss: 1.8029    Validation Accuracy: 0.3788\n",
      "Epoch  2, CIFAR-10 Batch 1:  Training Loss: 1.7437    Validation Accuracy: 0.3816\n",
      "Epoch  2, CIFAR-10 Batch 2:  Training Loss: 1.7276    Validation Accuracy: 0.3996\n",
      "Epoch  2, CIFAR-10 Batch 3:  Training Loss: 1.6054    Validation Accuracy: 0.4254\n",
      "Epoch  2, CIFAR-10 Batch 4:  Training Loss: 1.5775    Validation Accuracy: 0.4444\n",
      "Epoch  2, CIFAR-10 Batch 5:  Training Loss: 1.6440    Validation Accuracy: 0.4242\n",
      "Epoch  3, CIFAR-10 Batch 1:  Training Loss: 1.5595    Validation Accuracy: 0.4612\n",
      "Epoch  3, CIFAR-10 Batch 2:  Training Loss: 1.5751    Validation Accuracy: 0.4690\n",
      "Epoch  3, CIFAR-10 Batch 3:  Training Loss: 1.4881    Validation Accuracy: 0.4806\n",
      "Epoch  3, CIFAR-10 Batch 4:  Training Loss: 1.5098    Validation Accuracy: 0.4760\n",
      "Epoch  3, CIFAR-10 Batch 5:  Training Loss: 1.4885    Validation Accuracy: 0.4854\n",
      "Epoch  4, CIFAR-10 Batch 1:  Training Loss: 1.4157    Validation Accuracy: 0.4978\n",
      "Epoch  4, CIFAR-10 Batch 2:  Training Loss: 1.4389    Validation Accuracy: 0.5006\n",
      "Epoch  4, CIFAR-10 Batch 3:  Training Loss: 1.3766    Validation Accuracy: 0.5004\n",
      "Epoch  4, CIFAR-10 Batch 4:  Training Loss: 1.4116    Validation Accuracy: 0.5060\n",
      "Epoch  4, CIFAR-10 Batch 5:  Training Loss: 1.3982    Validation Accuracy: 0.5154\n",
      "Epoch  5, CIFAR-10 Batch 1:  Training Loss: 1.3377    Validation Accuracy: 0.5204\n",
      "Epoch  5, CIFAR-10 Batch 2:  Training Loss: 1.4336    Validation Accuracy: 0.4932\n",
      "Epoch  5, CIFAR-10 Batch 3:  Training Loss: 1.3036    Validation Accuracy: 0.5234\n",
      "Epoch  5, CIFAR-10 Batch 4:  Training Loss: 1.2890    Validation Accuracy: 0.5260\n",
      "Epoch  5, CIFAR-10 Batch 5:  Training Loss: 1.3021    Validation Accuracy: 0.5442\n",
      "Epoch  6, CIFAR-10 Batch 1:  Training Loss: 1.2618    Validation Accuracy: 0.5554\n",
      "Epoch  6, CIFAR-10 Batch 2:  Training Loss: 1.2527    Validation Accuracy: 0.5610\n",
      "Epoch  6, CIFAR-10 Batch 3:  Training Loss: 1.2004    Validation Accuracy: 0.5534\n",
      "Epoch  6, CIFAR-10 Batch 4:  Training Loss: 1.2007    Validation Accuracy: 0.5606\n",
      "Epoch  6, CIFAR-10 Batch 5:  Training Loss: 1.2343    Validation Accuracy: 0.5656\n",
      "Epoch  7, CIFAR-10 Batch 1:  Training Loss: 1.2143    Validation Accuracy: 0.5468\n",
      "Epoch  7, CIFAR-10 Batch 2:  Training Loss: 1.1993    Validation Accuracy: 0.5634\n",
      "Epoch  7, CIFAR-10 Batch 3:  Training Loss: 1.1653    Validation Accuracy: 0.5708\n",
      "Epoch  7, CIFAR-10 Batch 4:  Training Loss: 1.1043    Validation Accuracy: 0.5940\n",
      "Epoch  7, CIFAR-10 Batch 5:  Training Loss: 1.1454    Validation Accuracy: 0.5868\n",
      "Epoch  8, CIFAR-10 Batch 1:  Training Loss: 1.1558    Validation Accuracy: 0.5722\n",
      "Epoch  8, CIFAR-10 Batch 2:  Training Loss: 1.1545    Validation Accuracy: 0.5898\n",
      "Epoch  8, CIFAR-10 Batch 3:  Training Loss: 1.0912    Validation Accuracy: 0.5960\n",
      "Epoch  8, CIFAR-10 Batch 4:  Training Loss: 1.0440    Validation Accuracy: 0.6070\n",
      "Epoch  8, CIFAR-10 Batch 5:  Training Loss: 1.0423    Validation Accuracy: 0.5990\n",
      "Epoch  9, CIFAR-10 Batch 1:  Training Loss: 1.0969    Validation Accuracy: 0.5848\n",
      "Epoch  9, CIFAR-10 Batch 2:  Training Loss: 1.0450    Validation Accuracy: 0.6046\n",
      "Epoch  9, CIFAR-10 Batch 3:  Training Loss: 1.0518    Validation Accuracy: 0.6120\n",
      "Epoch  9, CIFAR-10 Batch 4:  Training Loss: 1.0375    Validation Accuracy: 0.6128\n",
      "Epoch  9, CIFAR-10 Batch 5:  Training Loss: 1.0117    Validation Accuracy: 0.6150\n",
      "Epoch 10, CIFAR-10 Batch 1:  Training Loss: 1.0174    Validation Accuracy: 0.6108\n",
      "Epoch 10, CIFAR-10 Batch 2:  Training Loss: 1.0471    Validation Accuracy: 0.6250\n",
      "Epoch 10, CIFAR-10 Batch 3:  Training Loss: 0.9863    Validation Accuracy: 0.6252\n",
      "Epoch 10, CIFAR-10 Batch 4:  Training Loss: 0.9607    Validation Accuracy: 0.6322\n",
      "Epoch 10, CIFAR-10 Batch 5:  Training Loss: 0.9464    Validation Accuracy: 0.6306\n",
      "Epoch 11, CIFAR-10 Batch 1:  Training Loss: 0.9536    Validation Accuracy: 0.6242\n",
      "Epoch 11, CIFAR-10 Batch 2:  Training Loss: 0.9633    Validation Accuracy: 0.6370\n",
      "Epoch 11, CIFAR-10 Batch 3:  Training Loss: 0.9090    Validation Accuracy: 0.6440\n",
      "Epoch 11, CIFAR-10 Batch 4:  Training Loss: 0.8933    Validation Accuracy: 0.6504\n",
      "Epoch 11, CIFAR-10 Batch 5:  Training Loss: 0.8668    Validation Accuracy: 0.6580\n",
      "Epoch 12, CIFAR-10 Batch 1:  Training Loss: 0.9271    Validation Accuracy: 0.6324\n",
      "Epoch 12, CIFAR-10 Batch 2:  Training Loss: 0.9784    Validation Accuracy: 0.6230\n",
      "Epoch 12, CIFAR-10 Batch 3:  Training Loss: 0.8954    Validation Accuracy: 0.6404\n",
      "Epoch 12, CIFAR-10 Batch 4:  Training Loss: 0.8622    Validation Accuracy: 0.6520\n",
      "Epoch 12, CIFAR-10 Batch 5:  Training Loss: 0.8539    Validation Accuracy: 0.6522\n",
      "Epoch 13, CIFAR-10 Batch 1:  Training Loss: 0.8746    Validation Accuracy: 0.6410\n",
      "Epoch 13, CIFAR-10 Batch 2:  Training Loss: 0.8873    Validation Accuracy: 0.6524\n",
      "Epoch 13, CIFAR-10 Batch 3:  Training Loss: 0.8425    Validation Accuracy: 0.6574\n",
      "Epoch 13, CIFAR-10 Batch 4:  Training Loss: 0.8317    Validation Accuracy: 0.6616\n",
      "Epoch 13, CIFAR-10 Batch 5:  Training Loss: 0.7929    Validation Accuracy: 0.6604\n",
      "Epoch 14, CIFAR-10 Batch 1:  Training Loss: 0.7826    Validation Accuracy: 0.6614\n",
      "Epoch 14, CIFAR-10 Batch 2:  Training Loss: 0.8903    Validation Accuracy: 0.6572\n",
      "Epoch 14, CIFAR-10 Batch 3:  Training Loss: 0.7913    Validation Accuracy: 0.6636\n",
      "Epoch 14, CIFAR-10 Batch 4:  Training Loss: 0.7645    Validation Accuracy: 0.6714\n",
      "Epoch 14, CIFAR-10 Batch 5:  Training Loss: 0.7349    Validation Accuracy: 0.6766\n",
      "Epoch 15, CIFAR-10 Batch 1:  Training Loss: 0.7341    Validation Accuracy: 0.6772\n",
      "Epoch 15, CIFAR-10 Batch 2:  Training Loss: 0.8320    Validation Accuracy: 0.6646\n",
      "Epoch 15, CIFAR-10 Batch 3:  Training Loss: 0.7750    Validation Accuracy: 0.6654\n",
      "Epoch 15, CIFAR-10 Batch 4:  Training Loss: 0.7333    Validation Accuracy: 0.6670\n",
      "Epoch 15, CIFAR-10 Batch 5:  Training Loss: 0.7073    Validation Accuracy: 0.6710\n",
      "Epoch 16, CIFAR-10 Batch 1:  Training Loss: 0.7013    Validation Accuracy: 0.6758\n",
      "Epoch 16, CIFAR-10 Batch 2:  Training Loss: 0.7518    Validation Accuracy: 0.6846\n",
      "Epoch 16, CIFAR-10 Batch 3:  Training Loss: 0.7055    Validation Accuracy: 0.6726\n",
      "Epoch 16, CIFAR-10 Batch 4:  Training Loss: 0.7035    Validation Accuracy: 0.6798\n",
      "Epoch 16, CIFAR-10 Batch 5:  Training Loss: 0.6462    Validation Accuracy: 0.6848\n",
      "Epoch 17, CIFAR-10 Batch 1:  Training Loss: 0.6642    Validation Accuracy: 0.6732\n",
      "Epoch 17, CIFAR-10 Batch 2:  Training Loss: 0.8136    Validation Accuracy: 0.6484\n",
      "Epoch 17, CIFAR-10 Batch 3:  Training Loss: 0.7218    Validation Accuracy: 0.6676\n",
      "Epoch 17, CIFAR-10 Batch 4:  Training Loss: 0.6653    Validation Accuracy: 0.6868\n",
      "Epoch 17, CIFAR-10 Batch 5:  Training Loss: 0.6222    Validation Accuracy: 0.6948\n",
      "Epoch 18, CIFAR-10 Batch 1:  Training Loss: 0.6448    Validation Accuracy: 0.6822\n",
      "Epoch 18, CIFAR-10 Batch 2:  Training Loss: 0.7046    Validation Accuracy: 0.6784\n",
      "Epoch 18, CIFAR-10 Batch 3:  Training Loss: 0.6317    Validation Accuracy: 0.6860\n",
      "Epoch 18, CIFAR-10 Batch 4:  Training Loss: 0.6968    Validation Accuracy: 0.6628\n",
      "Epoch 18, CIFAR-10 Batch 5:  Training Loss: 0.6347    Validation Accuracy: 0.6760\n",
      "Epoch 19, CIFAR-10 Batch 1:  Training Loss: 0.6170    Validation Accuracy: 0.6824\n",
      "Epoch 19, CIFAR-10 Batch 2:  Training Loss: 0.6868    Validation Accuracy: 0.6784\n",
      "Epoch 19, CIFAR-10 Batch 3:  Training Loss: 0.5939    Validation Accuracy: 0.6890\n",
      "Epoch 19, CIFAR-10 Batch 4:  Training Loss: 0.6147    Validation Accuracy: 0.6808\n",
      "Epoch 19, CIFAR-10 Batch 5:  Training Loss: 0.5571    Validation Accuracy: 0.6940\n",
      "Epoch 20, CIFAR-10 Batch 1:  Training Loss: 0.5613    Validation Accuracy: 0.7022\n",
      "Epoch 20, CIFAR-10 Batch 2:  Training Loss: 0.6216    Validation Accuracy: 0.6850\n",
      "Epoch 20, CIFAR-10 Batch 3:  Training Loss: 0.5710    Validation Accuracy: 0.6886\n",
      "Epoch 20, CIFAR-10 Batch 4:  Training Loss: 0.5569    Validation Accuracy: 0.6958\n",
      "Epoch 20, CIFAR-10 Batch 5:  Training Loss: 0.5512    Validation Accuracy: 0.6828\n"
     ]
    },
    {
     "name": "stdout",
     "output_type": "stream",
     "text": [
      "Epoch 21, CIFAR-10 Batch 1:  Training Loss: 0.5492    Validation Accuracy: 0.6904\n",
      "Epoch 21, CIFAR-10 Batch 2:  Training Loss: 0.5882    Validation Accuracy: 0.6938\n",
      "Epoch 21, CIFAR-10 Batch 3:  Training Loss: 0.5776    Validation Accuracy: 0.6808\n",
      "Epoch 21, CIFAR-10 Batch 4:  Training Loss: 0.5517    Validation Accuracy: 0.6890\n",
      "Epoch 21, CIFAR-10 Batch 5:  Training Loss: 0.5371    Validation Accuracy: 0.6926\n",
      "Epoch 22, CIFAR-10 Batch 1:  Training Loss: 0.5224    Validation Accuracy: 0.7012\n",
      "Epoch 22, CIFAR-10 Batch 2:  Training Loss: 0.5951    Validation Accuracy: 0.6876\n",
      "Epoch 22, CIFAR-10 Batch 3:  Training Loss: 0.5333    Validation Accuracy: 0.6806\n",
      "Epoch 22, CIFAR-10 Batch 4:  Training Loss: 0.5111    Validation Accuracy: 0.6906\n",
      "Epoch 22, CIFAR-10 Batch 5:  Training Loss: 0.4654    Validation Accuracy: 0.7014\n",
      "Epoch 23, CIFAR-10 Batch 1:  Training Loss: 0.4935    Validation Accuracy: 0.6958\n",
      "Epoch 23, CIFAR-10 Batch 2:  Training Loss: 0.5669    Validation Accuracy: 0.6852\n",
      "Epoch 23, CIFAR-10 Batch 3:  Training Loss: 0.5381    Validation Accuracy: 0.6688\n",
      "Epoch 23, CIFAR-10 Batch 4:  Training Loss: 0.5324    Validation Accuracy: 0.6756\n",
      "Epoch 23, CIFAR-10 Batch 5:  Training Loss: 0.4508    Validation Accuracy: 0.7010\n",
      "Epoch 24, CIFAR-10 Batch 1:  Training Loss: 0.4933    Validation Accuracy: 0.6850\n",
      "Epoch 24, CIFAR-10 Batch 2:  Training Loss: 0.4947    Validation Accuracy: 0.7046\n",
      "Epoch 24, CIFAR-10 Batch 3:  Training Loss: 0.4904    Validation Accuracy: 0.6872\n",
      "Epoch 24, CIFAR-10 Batch 4:  Training Loss: 0.5352    Validation Accuracy: 0.6648\n",
      "Epoch 24, CIFAR-10 Batch 5:  Training Loss: 0.4339    Validation Accuracy: 0.7090\n",
      "Epoch 25, CIFAR-10 Batch 1:  Training Loss: 0.4216    Validation Accuracy: 0.7078\n",
      "Epoch 25, CIFAR-10 Batch 2:  Training Loss: 0.4758    Validation Accuracy: 0.6964\n",
      "Epoch 25, CIFAR-10 Batch 3:  Training Loss: 0.3966    Validation Accuracy: 0.7050\n",
      "Epoch 25, CIFAR-10 Batch 4:  Training Loss: 0.4515    Validation Accuracy: 0.6946\n",
      "Epoch 25, CIFAR-10 Batch 5:  Training Loss: 0.4801    Validation Accuracy: 0.6902\n",
      "Epoch 26, CIFAR-10 Batch 1:  Training Loss: 0.3988    Validation Accuracy: 0.7080\n",
      "Epoch 26, CIFAR-10 Batch 2:  Training Loss: 0.4430    Validation Accuracy: 0.7104\n",
      "Epoch 26, CIFAR-10 Batch 3:  Training Loss: 0.4154    Validation Accuracy: 0.7010\n",
      "Epoch 26, CIFAR-10 Batch 4:  Training Loss: 0.4338    Validation Accuracy: 0.6814\n",
      "Epoch 26, CIFAR-10 Batch 5:  Training Loss: 0.3816    Validation Accuracy: 0.7060\n",
      "Epoch 27, CIFAR-10 Batch 1:  Training Loss: 0.3665    Validation Accuracy: 0.7148\n",
      "Epoch 27, CIFAR-10 Batch 2:  Training Loss: 0.3980    Validation Accuracy: 0.7136\n",
      "Epoch 27, CIFAR-10 Batch 3:  Training Loss: 0.3468    Validation Accuracy: 0.7152\n",
      "Epoch 27, CIFAR-10 Batch 4:  Training Loss: 0.3885    Validation Accuracy: 0.6748\n",
      "Epoch 27, CIFAR-10 Batch 5:  Training Loss: 0.3329    Validation Accuracy: 0.7006\n",
      "Epoch 28, CIFAR-10 Batch 1:  Training Loss: 0.3303    Validation Accuracy: 0.7094\n",
      "Epoch 28, CIFAR-10 Batch 2:  Training Loss: 0.3472    Validation Accuracy: 0.7160\n",
      "Epoch 28, CIFAR-10 Batch 3:  Training Loss: 0.3212    Validation Accuracy: 0.7148\n",
      "Epoch 28, CIFAR-10 Batch 4:  Training Loss: 0.3029    Validation Accuracy: 0.7128\n",
      "Epoch 28, CIFAR-10 Batch 5:  Training Loss: 0.3237    Validation Accuracy: 0.7026\n",
      "Epoch 29, CIFAR-10 Batch 1:  Training Loss: 0.3123    Validation Accuracy: 0.7010\n",
      "Epoch 29, CIFAR-10 Batch 2:  Training Loss: 0.3448    Validation Accuracy: 0.7014\n",
      "Epoch 29, CIFAR-10 Batch 3:  Training Loss: 0.2943    Validation Accuracy: 0.7088\n",
      "Epoch 29, CIFAR-10 Batch 4:  Training Loss: 0.3031    Validation Accuracy: 0.7012\n",
      "Epoch 29, CIFAR-10 Batch 5:  Training Loss: 0.3819    Validation Accuracy: 0.6932\n",
      "Epoch 30, CIFAR-10 Batch 1:  Training Loss: 0.3004    Validation Accuracy: 0.7060\n",
      "Epoch 30, CIFAR-10 Batch 2:  Training Loss: 0.3217    Validation Accuracy: 0.7006\n",
      "Epoch 30, CIFAR-10 Batch 3:  Training Loss: 0.3795    Validation Accuracy: 0.6872\n",
      "Epoch 30, CIFAR-10 Batch 4:  Training Loss: 0.3050    Validation Accuracy: 0.6976\n",
      "Epoch 30, CIFAR-10 Batch 5:  Training Loss: 0.2769    Validation Accuracy: 0.7098\n",
      "Epoch 31, CIFAR-10 Batch 1:  Training Loss: 0.2360    Validation Accuracy: 0.7172\n",
      "Epoch 31, CIFAR-10 Batch 2:  Training Loss: 0.2807    Validation Accuracy: 0.7080\n",
      "Epoch 31, CIFAR-10 Batch 3:  Training Loss: 0.2893    Validation Accuracy: 0.6934\n",
      "Epoch 31, CIFAR-10 Batch 4:  Training Loss: 0.2976    Validation Accuracy: 0.7002\n",
      "Epoch 31, CIFAR-10 Batch 5:  Training Loss: 0.2462    Validation Accuracy: 0.7114\n",
      "Epoch 32, CIFAR-10 Batch 1:  Training Loss: 0.2182    Validation Accuracy: 0.7194\n",
      "Epoch 32, CIFAR-10 Batch 2:  Training Loss: 0.2581    Validation Accuracy: 0.7122\n",
      "Epoch 32, CIFAR-10 Batch 3:  Training Loss: 0.2521    Validation Accuracy: 0.7022\n",
      "Epoch 32, CIFAR-10 Batch 4:  Training Loss: 0.2472    Validation Accuracy: 0.7034\n",
      "Epoch 32, CIFAR-10 Batch 5:  Training Loss: 0.2248    Validation Accuracy: 0.7020\n",
      "Epoch 33, CIFAR-10 Batch 1:  Training Loss: 0.2053    Validation Accuracy: 0.7102\n",
      "Epoch 33, CIFAR-10 Batch 2:  Training Loss: 0.2209    Validation Accuracy: 0.7062\n",
      "Epoch 33, CIFAR-10 Batch 3:  Training Loss: 0.1917    Validation Accuracy: 0.7092\n",
      "Epoch 33, CIFAR-10 Batch 4:  Training Loss: 0.2255    Validation Accuracy: 0.7016\n",
      "Epoch 33, CIFAR-10 Batch 5:  Training Loss: 0.1827    Validation Accuracy: 0.6964\n",
      "Epoch 34, CIFAR-10 Batch 1:  Training Loss: 0.1800    Validation Accuracy: 0.7184\n",
      "Epoch 34, CIFAR-10 Batch 2:  Training Loss: 0.1682    Validation Accuracy: 0.7140\n",
      "Epoch 34, CIFAR-10 Batch 3:  Training Loss: 0.1541    Validation Accuracy: 0.7122\n",
      "Epoch 34, CIFAR-10 Batch 4:  Training Loss: 0.2058    Validation Accuracy: 0.6978\n",
      "Epoch 34, CIFAR-10 Batch 5:  Training Loss: 0.1831    Validation Accuracy: 0.6838\n",
      "Epoch 35, CIFAR-10 Batch 1:  Training Loss: 0.1916    Validation Accuracy: 0.6978\n",
      "Epoch 35, CIFAR-10 Batch 2:  Training Loss: 0.1960    Validation Accuracy: 0.7106\n",
      "Epoch 35, CIFAR-10 Batch 3:  Training Loss: 0.1867    Validation Accuracy: 0.6978\n",
      "Epoch 35, CIFAR-10 Batch 4:  Training Loss: 0.1708    Validation Accuracy: 0.7022\n",
      "Epoch 35, CIFAR-10 Batch 5:  Training Loss: 0.1509    Validation Accuracy: 0.6896\n",
      "Epoch 36, CIFAR-10 Batch 1:  Training Loss: 0.1777    Validation Accuracy: 0.6946\n",
      "Epoch 36, CIFAR-10 Batch 2:  Training Loss: 0.1878    Validation Accuracy: 0.7030\n",
      "Epoch 36, CIFAR-10 Batch 3:  Training Loss: 0.1549    Validation Accuracy: 0.7112\n",
      "Epoch 36, CIFAR-10 Batch 4:  Training Loss: 0.1763    Validation Accuracy: 0.7002\n",
      "Epoch 36, CIFAR-10 Batch 5:  Training Loss: 0.1660    Validation Accuracy: 0.7042\n",
      "Epoch 37, CIFAR-10 Batch 1:  Training Loss: 0.1677    Validation Accuracy: 0.6986\n",
      "Epoch 37, CIFAR-10 Batch 2:  Training Loss: 0.1997    Validation Accuracy: 0.6932\n",
      "Epoch 37, CIFAR-10 Batch 3:  Training Loss: 0.1530    Validation Accuracy: 0.7050\n",
      "Epoch 37, CIFAR-10 Batch 4:  Training Loss: 0.1873    Validation Accuracy: 0.6906\n",
      "Epoch 37, CIFAR-10 Batch 5:  Training Loss: 0.1337    Validation Accuracy: 0.7082\n",
      "Epoch 38, CIFAR-10 Batch 1:  Training Loss: 0.1259    Validation Accuracy: 0.7084\n",
      "Epoch 38, CIFAR-10 Batch 2:  Training Loss: 0.1455    Validation Accuracy: 0.7098\n",
      "Epoch 38, CIFAR-10 Batch 3:  Training Loss: 0.1474    Validation Accuracy: 0.7038\n",
      "Epoch 38, CIFAR-10 Batch 4:  Training Loss: 0.1194    Validation Accuracy: 0.7086\n",
      "Epoch 38, CIFAR-10 Batch 5:  Training Loss: 0.1454    Validation Accuracy: 0.6916\n",
      "Epoch 39, CIFAR-10 Batch 1:  Training Loss: 0.1213    Validation Accuracy: 0.7108\n",
      "Epoch 39, CIFAR-10 Batch 2:  Training Loss: 0.1273    Validation Accuracy: 0.7146\n",
      "Epoch 39, CIFAR-10 Batch 3:  Training Loss: 0.1178    Validation Accuracy: 0.7118\n",
      "Epoch 39, CIFAR-10 Batch 4:  Training Loss: 0.1152    Validation Accuracy: 0.7030\n",
      "Epoch 39, CIFAR-10 Batch 5:  Training Loss: 0.0977    Validation Accuracy: 0.7074\n",
      "Epoch 40, CIFAR-10 Batch 1:  Training Loss: 0.1614    Validation Accuracy: 0.6866\n",
      "Epoch 40, CIFAR-10 Batch 2:  Training Loss: 0.1235    Validation Accuracy: 0.6936\n",
      "Epoch 40, CIFAR-10 Batch 3:  Training Loss: 0.1144    Validation Accuracy: 0.7070\n",
      "Epoch 40, CIFAR-10 Batch 4:  Training Loss: 0.0697    Validation Accuracy: 0.7124\n",
      "Epoch 40, CIFAR-10 Batch 5:  Training Loss: 0.0695    Validation Accuracy: 0.7076\n"
     ]
    },
    {
     "name": "stdout",
     "output_type": "stream",
     "text": [
      "Epoch 41, CIFAR-10 Batch 1:  Training Loss: 0.0840    Validation Accuracy: 0.7036\n",
      "Epoch 41, CIFAR-10 Batch 2:  Training Loss: 0.1178    Validation Accuracy: 0.6916\n",
      "Epoch 41, CIFAR-10 Batch 3:  Training Loss: 0.1342    Validation Accuracy: 0.6924\n",
      "Epoch 41, CIFAR-10 Batch 4:  Training Loss: 0.1072    Validation Accuracy: 0.6948\n",
      "Epoch 41, CIFAR-10 Batch 5:  Training Loss: 0.0697    Validation Accuracy: 0.7066\n",
      "Epoch 42, CIFAR-10 Batch 1:  Training Loss: 0.0775    Validation Accuracy: 0.6992\n",
      "Epoch 42, CIFAR-10 Batch 2:  Training Loss: 0.1277    Validation Accuracy: 0.6926\n",
      "Epoch 42, CIFAR-10 Batch 3:  Training Loss: 0.0903    Validation Accuracy: 0.7056\n",
      "Epoch 42, CIFAR-10 Batch 4:  Training Loss: 0.1157    Validation Accuracy: 0.6866\n",
      "Epoch 42, CIFAR-10 Batch 5:  Training Loss: 0.0901    Validation Accuracy: 0.6958\n",
      "Epoch 43, CIFAR-10 Batch 1:  Training Loss: 0.0847    Validation Accuracy: 0.7056\n",
      "Epoch 43, CIFAR-10 Batch 2:  Training Loss: 0.0879    Validation Accuracy: 0.7126\n",
      "Epoch 43, CIFAR-10 Batch 3:  Training Loss: 0.1035    Validation Accuracy: 0.6974\n",
      "Epoch 43, CIFAR-10 Batch 4:  Training Loss: 0.0959    Validation Accuracy: 0.7086\n",
      "Epoch 43, CIFAR-10 Batch 5:  Training Loss: 0.0747    Validation Accuracy: 0.7096\n",
      "Epoch 44, CIFAR-10 Batch 1:  Training Loss: 0.0770    Validation Accuracy: 0.7082\n",
      "Epoch 44, CIFAR-10 Batch 2:  Training Loss: 0.0694    Validation Accuracy: 0.7106\n",
      "Epoch 44, CIFAR-10 Batch 3:  Training Loss: 0.0704    Validation Accuracy: 0.7072\n",
      "Epoch 44, CIFAR-10 Batch 4:  Training Loss: 0.0657    Validation Accuracy: 0.6972\n",
      "Epoch 44, CIFAR-10 Batch 5:  Training Loss: 0.0579    Validation Accuracy: 0.6922\n",
      "Epoch 45, CIFAR-10 Batch 1:  Training Loss: 0.0482    Validation Accuracy: 0.7126\n",
      "Epoch 45, CIFAR-10 Batch 2:  Training Loss: 0.0692    Validation Accuracy: 0.6906\n",
      "Epoch 45, CIFAR-10 Batch 3:  Training Loss: 0.0529    Validation Accuracy: 0.7020\n",
      "Epoch 45, CIFAR-10 Batch 4:  Training Loss: 0.0836    Validation Accuracy: 0.6878\n",
      "Epoch 45, CIFAR-10 Batch 5:  Training Loss: 0.0504    Validation Accuracy: 0.6934\n",
      "Epoch 46, CIFAR-10 Batch 1:  Training Loss: 0.0591    Validation Accuracy: 0.7040\n",
      "Epoch 46, CIFAR-10 Batch 2:  Training Loss: 0.0693    Validation Accuracy: 0.6892\n",
      "Epoch 46, CIFAR-10 Batch 3:  Training Loss: 0.0623    Validation Accuracy: 0.6880\n",
      "Epoch 46, CIFAR-10 Batch 4:  Training Loss: 0.0492    Validation Accuracy: 0.7088\n",
      "Epoch 46, CIFAR-10 Batch 5:  Training Loss: 0.0401    Validation Accuracy: 0.7046\n",
      "Epoch 47, CIFAR-10 Batch 1:  Training Loss: 0.0456    Validation Accuracy: 0.7060\n",
      "Epoch 47, CIFAR-10 Batch 2:  Training Loss: 0.0852    Validation Accuracy: 0.6944\n",
      "Epoch 47, CIFAR-10 Batch 3:  Training Loss: 0.0592    Validation Accuracy: 0.6962\n",
      "Epoch 47, CIFAR-10 Batch 4:  Training Loss: 0.0548    Validation Accuracy: 0.7002\n",
      "Epoch 47, CIFAR-10 Batch 5:  Training Loss: 0.0664    Validation Accuracy: 0.7042\n",
      "Epoch 48, CIFAR-10 Batch 1:  Training Loss: 0.0800    Validation Accuracy: 0.7022\n",
      "Epoch 48, CIFAR-10 Batch 2:  Training Loss: 0.0812    Validation Accuracy: 0.6930\n",
      "Epoch 48, CIFAR-10 Batch 3:  Training Loss: 0.0609    Validation Accuracy: 0.7020\n",
      "Epoch 48, CIFAR-10 Batch 4:  Training Loss: 0.0373    Validation Accuracy: 0.7042\n",
      "Epoch 48, CIFAR-10 Batch 5:  Training Loss: 0.0328    Validation Accuracy: 0.7144\n",
      "Epoch 49, CIFAR-10 Batch 1:  Training Loss: 0.0658    Validation Accuracy: 0.6996\n",
      "Epoch 49, CIFAR-10 Batch 2:  Training Loss: 0.0490    Validation Accuracy: 0.7046\n",
      "Epoch 49, CIFAR-10 Batch 3:  Training Loss: 0.0461    Validation Accuracy: 0.7106\n",
      "Epoch 49, CIFAR-10 Batch 4:  Training Loss: 0.0295    Validation Accuracy: 0.7094\n",
      "Epoch 49, CIFAR-10 Batch 5:  Training Loss: 0.0218    Validation Accuracy: 0.7076\n",
      "Epoch 50, CIFAR-10 Batch 1:  Training Loss: 0.0379    Validation Accuracy: 0.7056\n",
      "Epoch 50, CIFAR-10 Batch 2:  Training Loss: 0.0546    Validation Accuracy: 0.6972\n",
      "Epoch 50, CIFAR-10 Batch 3:  Training Loss: 0.0236    Validation Accuracy: 0.7144\n",
      "Epoch 50, CIFAR-10 Batch 4:  Training Loss: 0.0240    Validation Accuracy: 0.7102\n",
      "Epoch 50, CIFAR-10 Batch 5:  Training Loss: 0.0223    Validation Accuracy: 0.7020\n"
     ]
    }
   ],
   "source": [
    "\"\"\"\n",
    "DON'T MODIFY ANYTHING IN THIS CELL\n",
    "\"\"\"\n",
    "save_model_path = './image_classification'\n",
    "\n",
    "print('Training...')\n",
    "with tf.Session() as sess:\n",
    "    # Initializing the variables\n",
    "    sess.run(tf.global_variables_initializer())\n",
    "    \n",
    "    # Training cycle\n",
    "    for epoch in range(epochs):\n",
    "        # Loop over all batches\n",
    "        n_batches = 5\n",
    "        for batch_i in range(1, n_batches + 1):\n",
    "            for batch_features, batch_labels in helper.load_preprocess_training_batch(batch_i, batch_size):\n",
    "                train_neural_network(sess, optimizer, keep_probability, batch_features, batch_labels)\n",
    "            print('Epoch {:>2}, CIFAR-10 Batch {}:  '.format(epoch + 1, batch_i), end='')\n",
    "            print_stats(sess, batch_features, batch_labels, cost, accuracy)\n",
    "            \n",
    "    # Save Model\n",
    "    saver = tf.train.Saver()\n",
    "    save_path = saver.save(sess, save_model_path)"
   ]
  },
  {
   "cell_type": "markdown",
   "metadata": {},
   "source": [
    "# Checkpoint\n",
    "The model has been saved to disk.\n",
    "## Test Model\n",
    "Test your model against the test dataset.  This will be your final accuracy. You should have an accuracy greater than 50%. If you don't, keep tweaking the model architecture and parameters."
   ]
  },
  {
   "cell_type": "code",
   "execution_count": 43,
   "metadata": {},
   "outputs": [
    {
     "name": "stdout",
     "output_type": "stream",
     "text": [
      "INFO:tensorflow:Restoring parameters from ./image_classification\n",
      "Testing Accuracy: 0.6948222279548645\n",
      "\n"
     ]
    },
    {
     "data": {
      "image/png": "[encoded data removed]",
      "text/plain": [
       "<matplotlib.figure.Figure at 0x7fc8ac331940>"
      ]
     },
     "metadata": {
      "image/png": {
       "height": 319,
       "width": 355
      }
     },
     "output_type": "display_data"
    }
   ],
   "source": [
    "\"\"\"\n",
    "DON'T MODIFY ANYTHING IN THIS CELL\n",
    "\"\"\"\n",
    "%matplotlib inline\n",
    "%config InlineBackend.figure_format = 'retina'\n",
    "\n",
    "import tensorflow as tf\n",
    "import pickle\n",
    "import helper\n",
    "import random\n",
    "\n",
    "# Set batch size if not already set\n",
    "try:\n",
    "    if batch_size:\n",
    "        pass\n",
    "except NameError:\n",
    "    batch_size = 64\n",
    "\n",
    "save_model_path = './image_classification'\n",
    "n_samples = 4\n",
    "top_n_predictions = 3\n",
    "\n",
    "def test_model():\n",
    "    \"\"\"\n",
    "    Test the saved model against the test dataset\n",
    "    \"\"\"\n",
    "\n",
    "    test_features, test_labels = pickle.load(open('preprocess_test.p', mode='rb'))\n",
    "    loaded_graph = tf.Graph()\n",
    "\n",
    "    with tf.Session(graph=loaded_graph) as sess:\n",
    "        # Load model\n",
    "        loader = tf.train.import_meta_graph(save_model_path + '.meta')\n",
    "        loader.restore(sess, save_model_path)\n",
    "\n",
    "        # Get Tensors from loaded model\n",
    "        loaded_x = loaded_graph.get_tensor_by_name('x:0')\n",
    "        loaded_y = loaded_graph.get_tensor_by_name('y:0')\n",
    "        loaded_keep_prob = loaded_graph.get_tensor_by_name('keep_prob:0')\n",
    "        loaded_logits = loaded_graph.get_tensor_by_name('logits:0')\n",
    "        loaded_acc = loaded_graph.get_tensor_by_name('accuracy:0')\n",
    "        \n",
    "        # Get accuracy in batches for memory limitations\n",
    "        test_batch_acc_total = 0\n",
    "        test_batch_count = 0\n",
    "        \n",
    "        for test_feature_batch, test_label_batch in helper.batch_features_labels(test_features, test_labels, batch_size):\n",
    "            test_batch_acc_total += sess.run(\n",
    "                loaded_acc,\n",
    "                feed_dict={loaded_x: test_feature_batch, loaded_y: test_label_batch, loaded_keep_prob: 1.0})\n",
    "            test_batch_count += 1\n",
    "\n",
    "        print('Testing Accuracy: {}\\n'.format(test_batch_acc_total/test_batch_count))\n",
    "\n",
    "        # Print Random Samples\n",
    "        random_test_features, random_test_labels = tuple(zip(*random.sample(list(zip(test_features, test_labels)), n_samples)))\n",
    "        random_test_predictions = sess.run(\n",
    "            tf.nn.top_k(tf.nn.softmax(loaded_logits), top_n_predictions),\n",
    "            feed_dict={loaded_x: random_test_features, loaded_y: random_test_labels, loaded_keep_prob: 1.0})\n",
    "        helper.display_image_predictions(random_test_features, random_test_labels, random_test_predictions)\n",
    "\n",
    "\n",
    "test_model()"
   ]
  },
  {
   "cell_type": "markdown",
   "metadata": {},
   "source": [
    "## Why 50-80% Accuracy?\n",
    "You might be wondering why you can't get an accuracy any higher. First things first, 50% isn't bad for a simple CNN.  Pure guessing would get you 10% accuracy. However, you might notice people are getting scores [well above 80%](http://rodrigob.github.io/are_we_there_yet/build/classification_datasets_results.html#43494641522d3130).  That's because we haven't taught you all there is to know about neural networks. We still need to cover a few more techniques.\n",
    "## Submitting This Project\n",
    "When submitting this project, make sure to run all the cells before saving the notebook.  Save the notebook file as \"dlnd_image_classification.ipynb\" and save it as a HTML file under \"File\" -> \"Download as\".  Include the \"helper.py\" and \"problem_unittests.py\" files in your submission."
   ]
  }
 ],
 "metadata": {
  "kernelspec": {
   "display_name": "Python 3",
   "language": "python",
   "name": "python3"
  },
  "language_info": {
   "codemirror_mode": {
    "name": "ipython",
    "version": 3
   },
   "file_extension": ".py",
   "mimetype": "text/x-python",
   "name": "python",
   "nbconvert_exporter": "python",
   "pygments_lexer": "ipython3",
   "version": "3.6.1"
  }
 },
 "nbformat": 4,
 "nbformat_minor": 1
}
